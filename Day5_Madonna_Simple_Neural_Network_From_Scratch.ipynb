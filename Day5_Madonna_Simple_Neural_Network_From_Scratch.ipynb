{
  "nbformat": 4,
  "nbformat_minor": 0,
  "metadata": {
    "colab": {
      "name": "Day5_Madonna_Simple_Neural_Network_From_Scratch.ipynb",
      "provenance": [],
      "authorship_tag": "ABX9TyOeLyDfmJIPg22u3RL5SrTF",
      "include_colab_link": true
    },
    "kernelspec": {
      "name": "python3",
      "display_name": "Python 3"
    }
  },
  "cells": [
    {
      "cell_type": "markdown",
      "metadata": {
        "id": "view-in-github",
        "colab_type": "text"
      },
      "source": [
        "<a href=\"https://colab.research.google.com/github/madonnagithub/hello-world/blob/master/Day5_Madonna_Simple_Neural_Network_From_Scratch.ipynb\" target=\"_parent\"><img src=\"https://colab.research.google.com/assets/colab-badge.svg\" alt=\"Open In Colab\"/></a>"
      ]
    },
    {
      "cell_type": "code",
      "metadata": {
        "id": "848k60HdvK5D",
        "colab_type": "code",
        "colab": {}
      },
      "source": [
        "import numpy as np"
      ],
      "execution_count": 0,
      "outputs": []
    },
    {
      "cell_type": "code",
      "metadata": {
        "id": "6YGbYEFFv7_v",
        "colab_type": "code",
        "colab": {
          "base_uri": "https://localhost:8080/",
          "height": 85
        },
        "outputId": "b645e4a0-ef68-44e3-9ec8-792cddebba25"
      },
      "source": [
        "input_samples=np.array([[1,0,1],[1,1,1],[0,1,0],[0,1,1]])\n",
        "input_samples"
      ],
      "execution_count": 26,
      "outputs": [
        {
          "output_type": "execute_result",
          "data": {
            "text/plain": [
              "array([[1, 0, 1],\n",
              "       [1, 1, 1],\n",
              "       [0, 1, 0],\n",
              "       [0, 1, 1]])"
            ]
          },
          "metadata": {
            "tags": []
          },
          "execution_count": 26
        }
      ]
    },
    {
      "cell_type": "code",
      "metadata": {
        "id": "-KxGe1iXwEE3",
        "colab_type": "code",
        "colab": {
          "base_uri": "https://localhost:8080/",
          "height": 85
        },
        "outputId": "18ed2ddb-26ba-47b6-8ec9-3328c33434d4"
      },
      "source": [
        "output_samples=np.array([[1],[1],[0],[0]])\n",
        "output_samples"
      ],
      "execution_count": 27,
      "outputs": [
        {
          "output_type": "execute_result",
          "data": {
            "text/plain": [
              "array([[1],\n",
              "       [1],\n",
              "       [0],\n",
              "       [0]])"
            ]
          },
          "metadata": {
            "tags": []
          },
          "execution_count": 27
        }
      ]
    },
    {
      "cell_type": "code",
      "metadata": {
        "id": "p-65Gy57wUIz",
        "colab_type": "code",
        "colab": {
          "base_uri": "https://localhost:8080/",
          "height": 68
        },
        "outputId": "b508fab7-c2be-48a1-fdb8-1a03d8689959"
      },
      "source": [
        "np.random.seed(10)\n",
        "weights = np.random.random((3,1))\n",
        "weights"
      ],
      "execution_count": 28,
      "outputs": [
        {
          "output_type": "execute_result",
          "data": {
            "text/plain": [
              "array([[0.77132064],\n",
              "       [0.02075195],\n",
              "       [0.63364823]])"
            ]
          },
          "metadata": {
            "tags": []
          },
          "execution_count": 28
        }
      ]
    },
    {
      "cell_type": "code",
      "metadata": {
        "id": "EwPwSGqmw-v4",
        "colab_type": "code",
        "colab": {
          "base_uri": "https://localhost:8080/",
          "height": 85
        },
        "outputId": "19cfd67f-eb62-4c97-f73d-735a0a1a83ba"
      },
      "source": [
        "sum = np.dot(input_samples,weights)\n",
        "sum"
      ],
      "execution_count": 29,
      "outputs": [
        {
          "output_type": "execute_result",
          "data": {
            "text/plain": [
              "array([[1.40496888],\n",
              "       [1.42572083],\n",
              "       [0.02075195],\n",
              "       [0.65440018]])"
            ]
          },
          "metadata": {
            "tags": []
          },
          "execution_count": 29
        }
      ]
    },
    {
      "cell_type": "code",
      "metadata": {
        "id": "vbwSqvq0xrpR",
        "colab_type": "code",
        "colab": {}
      },
      "source": [
        "#creating the activation function (sigmoid function)\n",
        "def activation(x):\n",
        "  return (1/(1 + np.exp(-x)))"
      ],
      "execution_count": 0,
      "outputs": []
    },
    {
      "cell_type": "code",
      "metadata": {
        "id": "yc_UYPCsygN2",
        "colab_type": "code",
        "colab": {
          "base_uri": "https://localhost:8080/",
          "height": 85
        },
        "outputId": "62f1c423-0fb4-407c-a393-ff2c8f334767"
      },
      "source": [
        "predicted_output=activation(sum)\n",
        "predicted_output"
      ],
      "execution_count": 31,
      "outputs": [
        {
          "output_type": "execute_result",
          "data": {
            "text/plain": [
              "array([[0.80297119],\n",
              "       [0.8062337 ],\n",
              "       [0.5051878 ],\n",
              "       [0.65800135]])"
            ]
          },
          "metadata": {
            "tags": []
          },
          "execution_count": 31
        }
      ]
    },
    {
      "cell_type": "code",
      "metadata": {
        "id": "SYdgb7QFzUWh",
        "colab_type": "code",
        "colab": {
          "base_uri": "https://localhost:8080/",
          "height": 85
        },
        "outputId": "19e156a3-9036-410e-90c3-fdc3ac50647e"
      },
      "source": [
        "def gradient(x):\n",
        "  return x * (1-x)\n",
        "\n",
        "for i in range(1000):\n",
        "  sum = 0.02+ np.dot(input_samples,weights)\n",
        "  predicted_output = activation(sum)\n",
        "  error = output_samples - predicted_output\n",
        "  adjustment = error * gradient(predicted_output)\n",
        "  adjustment\n",
        "  weights += np.dot(input_samples.T,adjustment)\n",
        "  weights\n",
        "error\n"
      ],
      "execution_count": 36,
      "outputs": [
        {
          "output_type": "execute_result",
          "data": {
            "text/plain": [
              "array([[ 0.00028943],\n",
              "       [ 0.01527941],\n",
              "       [-0.01867962],\n",
              "       [-0.0098602 ]])"
            ]
          },
          "metadata": {
            "tags": []
          },
          "execution_count": 36
        }
      ]
    },
    {
      "cell_type": "code",
      "metadata": {
        "id": "ZG--hK672Pfc",
        "colab_type": "code",
        "colab": {
          "base_uri": "https://localhost:8080/",
          "height": 85
        },
        "outputId": "4b526042-fae6-499f-8f28-d0287b702d52"
      },
      "source": [
        "predicted_output.round()"
      ],
      "execution_count": 37,
      "outputs": [
        {
          "output_type": "execute_result",
          "data": {
            "text/plain": [
              "array([[1.],\n",
              "       [1.],\n",
              "       [0.],\n",
              "       [0.]])"
            ]
          },
          "metadata": {
            "tags": []
          },
          "execution_count": 37
        }
      ]
    },
    {
      "cell_type": "code",
      "metadata": {
        "id": "oQrt1jVE3B6j",
        "colab_type": "code",
        "colab": {}
      },
      "source": [
        "[]"
      ],
      "execution_count": 0,
      "outputs": []
    }
  ]
}