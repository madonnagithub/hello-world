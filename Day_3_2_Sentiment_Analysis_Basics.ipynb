{
  "nbformat": 4,
  "nbformat_minor": 0,
  "metadata": {
    "colab": {
      "name": "Day 3_2 - Sentiment Analysis Basics.ipynb",
      "provenance": [],
      "collapsed_sections": [],
      "include_colab_link": true
    },
    "kernelspec": {
      "name": "python3",
      "display_name": "Python 3"
    }
  },
  "cells": [
    {
      "cell_type": "markdown",
      "metadata": {
        "id": "view-in-github",
        "colab_type": "text"
      },
      "source": [
        "<a href=\"https://colab.research.google.com/github/madonnagithub/hello-world/blob/master/Day_3_2_Sentiment_Analysis_Basics.ipynb\" target=\"_parent\"><img src=\"https://colab.research.google.com/assets/colab-badge.svg\" alt=\"Open In Colab\"/></a>"
      ]
    },
    {
      "cell_type": "code",
      "metadata": {
        "id": "5j2f558Tt5Tb",
        "colab_type": "code",
        "colab": {}
      },
      "source": [
        "##### Libraries\n",
        "#### NLTK - Natural Language Tool Kit\n",
        "#### TextBlob \n",
        "#### Spacy "
      ],
      "execution_count": 0,
      "outputs": []
    },
    {
      "cell_type": "code",
      "metadata": {
        "id": "dVJadqHrvwjB",
        "colab_type": "code",
        "colab": {}
      },
      "source": [
        "import nltk\n",
        "nltk.download('vader_lexicon') \n",
        "#### vader_lexicon is the package in nltk created by Facebook for sentiment analysis"
      ],
      "execution_count": 0,
      "outputs": []
    },
    {
      "cell_type": "code",
      "metadata": {
        "id": "rvnQ-79lwBJs",
        "colab_type": "code",
        "colab": {}
      },
      "source": [
        "from nltk.sentiment.vader import SentimentIntensityAnalyzer\n",
        "sia = SentimentIntensityAnalyzer()"
      ],
      "execution_count": 0,
      "outputs": []
    },
    {
      "cell_type": "code",
      "metadata": {
        "id": "y7weJI8UwvGi",
        "colab_type": "code",
        "outputId": "b3109681-a1d5-4e7c-9492-c6298ed179ad",
        "colab": {
          "base_uri": "https://localhost:8080/",
          "height": 35
        }
      },
      "source": [
        "review1 = \"good movie\"\n",
        "sia.polarity_scores(review1)"
      ],
      "execution_count": 0,
      "outputs": [
        {
          "output_type": "execute_result",
          "data": {
            "text/plain": [
              "{'compound': 0.4404, 'neg': 0.0, 'neu': 0.256, 'pos': 0.744}"
            ]
          },
          "metadata": {
            "tags": []
          },
          "execution_count": 6
        }
      ]
    },
    {
      "cell_type": "code",
      "metadata": {
        "id": "qMe3iKgxyYez",
        "colab_type": "code",
        "outputId": "e4ada02e-e365-489c-fef8-73efdba42619",
        "colab": {
          "base_uri": "https://localhost:8080/",
          "height": 35
        }
      },
      "source": [
        "review2 = \"best movie\"\n",
        "sia.polarity_scores(review2)"
      ],
      "execution_count": 0,
      "outputs": [
        {
          "output_type": "execute_result",
          "data": {
            "text/plain": [
              "{'compound': 0.6369, 'neg': 0.0, 'neu': 0.192, 'pos': 0.808}"
            ]
          },
          "metadata": {
            "tags": []
          },
          "execution_count": 8
        }
      ]
    },
    {
      "cell_type": "code",
      "metadata": {
        "id": "OSsO9pa9yjJ7",
        "colab_type": "code",
        "outputId": "33eb54e2-9b3e-4db2-e012-62bd860f1fdd",
        "colab": {
          "base_uri": "https://localhost:8080/",
          "height": 35
        }
      },
      "source": [
        "review3 = \"best and awesome movie of my life that I have seen\"\n",
        "sia.polarity_scores(review3)"
      ],
      "execution_count": 0,
      "outputs": [
        {
          "output_type": "execute_result",
          "data": {
            "text/plain": [
              "{'compound': 0.8519, 'neg': 0.0, 'neu': 0.491, 'pos': 0.509}"
            ]
          },
          "metadata": {
            "tags": []
          },
          "execution_count": 11
        }
      ]
    },
    {
      "cell_type": "code",
      "metadata": {
        "id": "GO07jHPaxYM-",
        "colab_type": "code",
        "outputId": "30062fd3-5942-4ca5-baf7-8c6934729ce7",
        "colab": {
          "base_uri": "https://localhost:8080/",
          "height": 35
        }
      },
      "source": [
        "review4 = \"bad movie\"\n",
        "sia.polarity_scores(review4)"
      ],
      "execution_count": 0,
      "outputs": [
        {
          "output_type": "execute_result",
          "data": {
            "text/plain": [
              "{'compound': -0.5423, 'neg': 0.778, 'neu': 0.222, 'pos': 0.0}"
            ]
          },
          "metadata": {
            "tags": []
          },
          "execution_count": 12
        }
      ]
    },
    {
      "cell_type": "code",
      "metadata": {
        "id": "B5dcplXxxqYp",
        "colab_type": "code",
        "outputId": "2f345a24-2b58-470f-8691-f6b091c0c65b",
        "colab": {
          "base_uri": "https://localhost:8080/",
          "height": 35
        }
      },
      "source": [
        "review5 = \"worst movie\"\n",
        "sia.polarity_scores(review5)"
      ],
      "execution_count": 0,
      "outputs": [
        {
          "output_type": "execute_result",
          "data": {
            "text/plain": [
              "{'compound': -0.6249, 'neg': 0.804, 'neu': 0.196, 'pos': 0.0}"
            ]
          },
          "metadata": {
            "tags": []
          },
          "execution_count": 13
        }
      ]
    },
    {
      "cell_type": "code",
      "metadata": {
        "id": "-oIc8QdVy1Ft",
        "colab_type": "code",
        "outputId": "25973443-6dbd-44c2-941f-448be3d3f4d3",
        "colab": {
          "base_uri": "https://localhost:8080/",
          "height": 35
        }
      },
      "source": [
        "review6 = \"worst movie and complete waste of time\"\n",
        "sia.polarity_scores(review6)"
      ],
      "execution_count": 0,
      "outputs": [
        {
          "output_type": "execute_result",
          "data": {
            "text/plain": [
              "{'compound': -0.7845, 'neg': 0.58, 'neu': 0.42, 'pos': 0.0}"
            ]
          },
          "metadata": {
            "tags": []
          },
          "execution_count": 14
        }
      ]
    },
    {
      "cell_type": "code",
      "metadata": {
        "id": "TtaH_n36y-mV",
        "colab_type": "code",
        "outputId": "da2adc60-dbf7-4435-ec6a-c9e67d740f60",
        "colab": {
          "base_uri": "https://localhost:8080/",
          "height": 35
        }
      },
      "source": [
        "review7 = \"i dont know the movie\"\n",
        "sia.polarity_scores(review7)"
      ],
      "execution_count": 0,
      "outputs": [
        {
          "output_type": "execute_result",
          "data": {
            "text/plain": [
              "{'compound': 0.0, 'neg': 0.0, 'neu': 1.0, 'pos': 0.0}"
            ]
          },
          "metadata": {
            "tags": []
          },
          "execution_count": 15
        }
      ]
    },
    {
      "cell_type": "code",
      "metadata": {
        "id": "fR0TMLdezjlb",
        "colab_type": "code",
        "outputId": "629cfa0f-86a4-457f-e663-430a9a998e7a",
        "colab": {
          "base_uri": "https://localhost:8080/",
          "height": 35
        }
      },
      "source": [
        "review8 = \"mujhe movie achi ni lagi\"\n",
        "sia.polarity_scores(review8)"
      ],
      "execution_count": 0,
      "outputs": [
        {
          "output_type": "execute_result",
          "data": {
            "text/plain": [
              "{'compound': 0.0, 'neg': 0.0, 'neu': 1.0, 'pos': 0.0}"
            ]
          },
          "metadata": {
            "tags": []
          },
          "execution_count": 16
        }
      ]
    },
    {
      "cell_type": "code",
      "metadata": {
        "id": "UrfleoM6zvSe",
        "colab_type": "code",
        "outputId": "bcd1ff78-ff03-442d-f6e8-f7abd360069e",
        "colab": {
          "base_uri": "https://localhost:8080/",
          "height": 35
        }
      },
      "source": [
        "review8 = \"फिल्म सबसे खराब थी\"\n",
        "sia.polarity_scores(review8)"
      ],
      "execution_count": 0,
      "outputs": [
        {
          "output_type": "execute_result",
          "data": {
            "text/plain": [
              "{'compound': 0.0, 'neg': 0.0, 'neu': 1.0, 'pos': 0.0}"
            ]
          },
          "metadata": {
            "tags": []
          },
          "execution_count": 18
        }
      ]
    },
    {
      "cell_type": "code",
      "metadata": {
        "id": "qOkm3cYC0Bpk",
        "colab_type": "code",
        "outputId": "e9cfcf40-d5dc-41d9-f066-42f0fcb867fb",
        "colab": {
          "base_uri": "https://localhost:8080/",
          "height": 35
        }
      },
      "source": [
        "review9 = \"best movie\"\n",
        "sia.polarity_scores(review9)"
      ],
      "execution_count": 0,
      "outputs": [
        {
          "output_type": "execute_result",
          "data": {
            "text/plain": [
              "{'compound': 0.6369, 'neg': 0.0, 'neu': 0.192, 'pos': 0.808}"
            ]
          },
          "metadata": {
            "tags": []
          },
          "execution_count": 19
        }
      ]
    },
    {
      "cell_type": "code",
      "metadata": {
        "id": "Jr6tPiNL0Nqy",
        "colab_type": "code",
        "outputId": "d71c230c-02b1-4331-a931-b70756a2da67",
        "colab": {
          "base_uri": "https://localhost:8080/",
          "height": 35
        }
      },
      "source": [
        "review10=\"awesome, superb, excellent\"\n",
        "sia.polarity_scores(review10)"
      ],
      "execution_count": 0,
      "outputs": [
        {
          "output_type": "execute_result",
          "data": {
            "text/plain": [
              "{'compound': 0.9169, 'neg': 0.0, 'neu': 0.0, 'pos': 1.0}"
            ]
          },
          "metadata": {
            "tags": []
          },
          "execution_count": 20
        }
      ]
    },
    {
      "cell_type": "code",
      "metadata": {
        "id": "HaKHkJ-A0lX0",
        "colab_type": "code",
        "outputId": "bedd770a-bd05-4825-ad1c-73690abc1e27",
        "colab": {
          "base_uri": "https://localhost:8080/",
          "height": 538
        }
      },
      "source": [
        "import pandas as pd\n",
        "data = pd.read_csv(\"https://raw.githubusercontent.com/umangkejriwal1122/demo1/master/reviews.csv\")\n",
        "data"
      ],
      "execution_count": 0,
      "outputs": [
        {
          "output_type": "execute_result",
          "data": {
            "text/html": [
              "<div>\n",
              "<style scoped>\n",
              "    .dataframe tbody tr th:only-of-type {\n",
              "        vertical-align: middle;\n",
              "    }\n",
              "\n",
              "    .dataframe tbody tr th {\n",
              "        vertical-align: top;\n",
              "    }\n",
              "\n",
              "    .dataframe thead th {\n",
              "        text-align: right;\n",
              "    }\n",
              "</style>\n",
              "<table border=\"1\" class=\"dataframe\">\n",
              "  <thead>\n",
              "    <tr style=\"text-align: right;\">\n",
              "      <th></th>\n",
              "      <th>Unnamed: 0</th>\n",
              "      <th>Date</th>\n",
              "      <th>Customer Name</th>\n",
              "      <th>Ratings</th>\n",
              "      <th>Review Title</th>\n",
              "      <th>Reviews</th>\n",
              "    </tr>\n",
              "  </thead>\n",
              "  <tbody>\n",
              "    <tr>\n",
              "      <th>0</th>\n",
              "      <td>0</td>\n",
              "      <td>Reviewed in India on 6 October 2019</td>\n",
              "      <td>Praggya</td>\n",
              "      <td>3.0 out of 5 stars</td>\n",
              "      <td>Think and evaluate before you go for it</td>\n",
              "      <td>After reading a lot of geeky reviews on YouTub...</td>\n",
              "    </tr>\n",
              "    <tr>\n",
              "      <th>1</th>\n",
              "      <td>1</td>\n",
              "      <td>Reviewed in India on 5 October 2019</td>\n",
              "      <td>Amazon Customer</td>\n",
              "      <td>4.0 out of 5 stars</td>\n",
              "      <td>Treat to the eye</td>\n",
              "      <td>Detailed review --Design - 4/5+Reduced notch+P...</td>\n",
              "    </tr>\n",
              "    <tr>\n",
              "      <th>2</th>\n",
              "      <td>2</td>\n",
              "      <td>Reviewed in India on 3 October 2019</td>\n",
              "      <td>Kshitij Kumar</td>\n",
              "      <td>5.0 out of 5 stars</td>\n",
              "      <td>Best experience</td>\n",
              "      <td>Awesome experience..best in class camera... ox...</td>\n",
              "    </tr>\n",
              "    <tr>\n",
              "      <th>3</th>\n",
              "      <td>3</td>\n",
              "      <td>Reviewed in India on 2 October 2019</td>\n",
              "      <td>manikanta</td>\n",
              "      <td>5.0 out of 5 stars</td>\n",
              "      <td>One Plus 7T - One Word, STUNNING!!</td>\n",
              "      <td>I received One Plus 7T 2 days back. I will des...</td>\n",
              "    </tr>\n",
              "    <tr>\n",
              "      <th>4</th>\n",
              "      <td>4</td>\n",
              "      <td>Reviewed in India on 2 October 2019</td>\n",
              "      <td>Rajesh Adhikary</td>\n",
              "      <td>4.0 out of 5 stars</td>\n",
              "      <td>Pro Camera, performance, looks. Cons Battery d...</td>\n",
              "      <td>This phone has great performance, good camera ...</td>\n",
              "    </tr>\n",
              "    <tr>\n",
              "      <th>5</th>\n",
              "      <td>5</td>\n",
              "      <td>Reviewed in India on 9 October 2019</td>\n",
              "      <td>Yugal View Extra</td>\n",
              "      <td>5.0 out of 5 stars</td>\n",
              "      <td>Super fast phone with super amazing camera</td>\n",
              "      <td>8 Gb Ram128 Gb storage.This is super amazing p...</td>\n",
              "    </tr>\n",
              "    <tr>\n",
              "      <th>6</th>\n",
              "      <td>6</td>\n",
              "      <td>Reviewed in India on 3 October 2019</td>\n",
              "      <td>Vicky Sen</td>\n",
              "      <td>1.0 out of 5 stars</td>\n",
              "      <td>Please improve your build quality other wise i...</td>\n",
              "      <td>My first one+7t &amp; its make me so sad. I receiv...</td>\n",
              "    </tr>\n",
              "    <tr>\n",
              "      <th>7</th>\n",
              "      <td>7</td>\n",
              "      <td>Reviewed in India on 5 October 2019</td>\n",
              "      <td>Piyush Vaibhav</td>\n",
              "      <td>5.0 out of 5 stars</td>\n",
              "      <td>I think an all rounder!</td>\n",
              "      <td>I am among the first to buy this phone with pr...</td>\n",
              "    </tr>\n",
              "    <tr>\n",
              "      <th>8</th>\n",
              "      <td>8</td>\n",
              "      <td>Reviewed in India on 10 October 2019</td>\n",
              "      <td>KESH</td>\n",
              "      <td>1.0 out of 5 stars</td>\n",
              "      <td>PLEASE SAVE YOUR MONEY AND DON'T BUY THIS PHONE.</td>\n",
              "      <td>THIS IS ONE OF THE WORST PHONE I HAVE EVER PUR...</td>\n",
              "    </tr>\n",
              "    <tr>\n",
              "      <th>9</th>\n",
              "      <td>9</td>\n",
              "      <td>Reviewed in India on 2 October 2019</td>\n",
              "      <td>Dheeraj Malhotra</td>\n",
              "      <td>4.0 out of 5 stars</td>\n",
              "      <td>No earphone jack</td>\n",
              "      <td>No earphone jack</td>\n",
              "    </tr>\n",
              "  </tbody>\n",
              "</table>\n",
              "</div>"
            ],
            "text/plain": [
              "   Unnamed: 0  ...                                            Reviews\n",
              "0           0  ...  After reading a lot of geeky reviews on YouTub...\n",
              "1           1  ...  Detailed review --Design - 4/5+Reduced notch+P...\n",
              "2           2  ...  Awesome experience..best in class camera... ox...\n",
              "3           3  ...  I received One Plus 7T 2 days back. I will des...\n",
              "4           4  ...  This phone has great performance, good camera ...\n",
              "5           5  ...  8 Gb Ram128 Gb storage.This is super amazing p...\n",
              "6           6  ...  My first one+7t & its make me so sad. I receiv...\n",
              "7           7  ...  I am among the first to buy this phone with pr...\n",
              "8           8  ...  THIS IS ONE OF THE WORST PHONE I HAVE EVER PUR...\n",
              "9           9  ...                                   No earphone jack\n",
              "\n",
              "[10 rows x 6 columns]"
            ]
          },
          "metadata": {
            "tags": []
          },
          "execution_count": 24
        }
      ]
    },
    {
      "cell_type": "code",
      "metadata": {
        "id": "mnsLPasM1T9V",
        "colab_type": "code",
        "outputId": "3294e8fd-c1a4-4daf-d695-edcf01b2f01c",
        "colab": {
          "base_uri": "https://localhost:8080/",
          "height": 55
        }
      },
      "source": [
        "data['Reviews'][0]"
      ],
      "execution_count": 0,
      "outputs": [
        {
          "output_type": "execute_result",
          "data": {
            "text/plain": [
              "\"After reading a lot of geeky reviews on YouTube and portals, I bought Oneplus7t. Pls, note I have been using OnePlus from last many years now so my expectations were clear. My experience with the device says that most of the reviews or unboxing things are influenced. Pls, note I have bought it with my own money unlike leading reviewers or unboxing video geeks who get it for free. So pls don't go by them blindly. Go for users reviews who bought them with their own money. So I am writing my 5 days experience with the phone.I am not a gamer or a geek. A regular user who wants to do all the office work on the phone, social media, blogging and vlogging, etc.The last OnePlus phone I was using was Oneplus 5 and was quite happy with it until it screen got broken and replacement cost was higher than the selling price of the device itself.The day it arrived from Amazon I opened it with a lot of excitement which continued till I have held it in my hands.Here are the issues:1. Weight: It weighed too much I felt like holding a brick. And it is thick. When I hold it in one hand for a few minutes I get a deep red pit in my hand (due to blood circulation).2. Camera: Then I had to go for a conference there I tried clicking pictures. Picture quality did not come out well. Still, I thought it may be light or background because of my previous experiences I could not believe it to be not good. So I continued clicking pictures which really missed detailing. As you zoom in it will make it blurred. I have clicked a magazine cover picture with my Oneplus 5 which had only 16 MP camera but pic quality was natural and good. It clicks blur pics may it has to do with image Stabilization.3. Battery:  Battery is avg. All those time I teased my iPhone or Samsung Series colleagues and friends for their battery life. Welcome to the league. This offers an avg battery life. I never carried a charger with me in previous models if I Start with 90% even after two years. But here I have to carry it even for the average usage. I m wondering what would be this phone battery life in a year or more.4. 90 Hz refresh rate is a gimmick to sell this device. It will give you fluid experience but the soon it consumes battery you will always prefer to keep it to 60hz which is an option given in the display settings. If you always stick to a desk or have a power source around you can keep it to 90hz. Not for people who are on the move most of the time. Don't fall for it.5. Sound: It's average. Phone calls are not crisp and clear. At times the caller's voice gets hazy and husky. Voice is even audible to person the person sitting next to me. Even on lower volumes. Speakers volume is loud but the sound quality is not good.6. No premium-feeling anymore. With multiple variants, it has joined the league of Samsung, Mi, Oppo, Vivo. Now they are launching 7t pro on Oct 10 again it is a disappointment for those who bought 7t on day 1. Maybe their R&D or trials have some problem here that in every two months they are launching a new device with an update to the previous faults. Like OnePlus 7 has voice receiver on one side which is right. So if you take calls or hear the phone from left you won't get a clear voice or volume. So they added receivers on both the side in this device.I am still not getting why I have spent Rs 40,000 on it. No camera quality, no battery life, no sound quality on calls, getting wounds on holding it for long.I have always recommended OnePlus devices to everyone around and had high hopes and trust on the brand that I bought it on the day of the launch but with this experience, I won't recommend OnePlus 7t to my colleagues and friends who are planning to upgrade their devices.\""
            ]
          },
          "metadata": {
            "tags": []
          },
          "execution_count": 25
        }
      ]
    },
    {
      "cell_type": "code",
      "metadata": {
        "id": "8_Pvwa371zHp",
        "colab_type": "code",
        "outputId": "fa3876a1-b26b-41a0-fb09-e86ab881cd4f",
        "colab": {
          "base_uri": "https://localhost:8080/",
          "height": 35
        }
      },
      "source": [
        "sia.polarity_scores(data['Reviews'][0])"
      ],
      "execution_count": 0,
      "outputs": [
        {
          "output_type": "execute_result",
          "data": {
            "text/plain": [
              "{'compound': 0.9585, 'neg': 0.054, 'neu': 0.862, 'pos': 0.084}"
            ]
          },
          "metadata": {
            "tags": []
          },
          "execution_count": 26
        }
      ]
    },
    {
      "cell_type": "code",
      "metadata": {
        "id": "RegYa_cG22JN",
        "colab_type": "code",
        "colab": {}
      },
      "source": [
        "polarity_scores = []\n",
        "for i in range(0,len(data)):\n",
        "  p = sia.polarity_scores(data['Reviews'][i])\n",
        "  polarity_scores.append(p)"
      ],
      "execution_count": 0,
      "outputs": []
    },
    {
      "cell_type": "code",
      "metadata": {
        "id": "GW-ftR_N3iFt",
        "colab_type": "code",
        "colab": {}
      },
      "source": [
        "polarity_scores"
      ],
      "execution_count": 0,
      "outputs": []
    },
    {
      "cell_type": "code",
      "metadata": {
        "id": "k-x-vd0f3oOD",
        "colab_type": "code",
        "colab": {}
      },
      "source": [
        "scores = []\n",
        "for i in range(0,len(polarity_scores)):\n",
        "  c = polarity_scores[i]['compound']\n",
        "  if c > 0:\n",
        "    scores.append(\"Positive\")\n",
        "  elif c < 0:\n",
        "    scores.append(\"Negative\")\n",
        "  else:\n",
        "    scores.append(\"Neutral\")"
      ],
      "execution_count": 0,
      "outputs": []
    },
    {
      "cell_type": "code",
      "metadata": {
        "id": "hxiu0FM25Dsz",
        "colab_type": "code",
        "outputId": "80ef626c-2a2d-4d7a-98f5-60a6007ae545",
        "colab": {
          "base_uri": "https://localhost:8080/",
          "height": 538
        }
      },
      "source": [
        "data['Score'] = scores\n",
        "data"
      ],
      "execution_count": 0,
      "outputs": [
        {
          "output_type": "execute_result",
          "data": {
            "text/html": [
              "<div>\n",
              "<style scoped>\n",
              "    .dataframe tbody tr th:only-of-type {\n",
              "        vertical-align: middle;\n",
              "    }\n",
              "\n",
              "    .dataframe tbody tr th {\n",
              "        vertical-align: top;\n",
              "    }\n",
              "\n",
              "    .dataframe thead th {\n",
              "        text-align: right;\n",
              "    }\n",
              "</style>\n",
              "<table border=\"1\" class=\"dataframe\">\n",
              "  <thead>\n",
              "    <tr style=\"text-align: right;\">\n",
              "      <th></th>\n",
              "      <th>Unnamed: 0</th>\n",
              "      <th>Date</th>\n",
              "      <th>Customer Name</th>\n",
              "      <th>Ratings</th>\n",
              "      <th>Review Title</th>\n",
              "      <th>Reviews</th>\n",
              "      <th>Score</th>\n",
              "    </tr>\n",
              "  </thead>\n",
              "  <tbody>\n",
              "    <tr>\n",
              "      <th>0</th>\n",
              "      <td>0</td>\n",
              "      <td>Reviewed in India on 6 October 2019</td>\n",
              "      <td>Praggya</td>\n",
              "      <td>3.0 out of 5 stars</td>\n",
              "      <td>Think and evaluate before you go for it</td>\n",
              "      <td>After reading a lot of geeky reviews on YouTub...</td>\n",
              "      <td>Positive</td>\n",
              "    </tr>\n",
              "    <tr>\n",
              "      <th>1</th>\n",
              "      <td>1</td>\n",
              "      <td>Reviewed in India on 5 October 2019</td>\n",
              "      <td>Amazon Customer</td>\n",
              "      <td>4.0 out of 5 stars</td>\n",
              "      <td>Treat to the eye</td>\n",
              "      <td>Detailed review --Design - 4/5+Reduced notch+P...</td>\n",
              "      <td>Positive</td>\n",
              "    </tr>\n",
              "    <tr>\n",
              "      <th>2</th>\n",
              "      <td>2</td>\n",
              "      <td>Reviewed in India on 3 October 2019</td>\n",
              "      <td>Kshitij Kumar</td>\n",
              "      <td>5.0 out of 5 stars</td>\n",
              "      <td>Best experience</td>\n",
              "      <td>Awesome experience..best in class camera... ox...</td>\n",
              "      <td>Positive</td>\n",
              "    </tr>\n",
              "    <tr>\n",
              "      <th>3</th>\n",
              "      <td>3</td>\n",
              "      <td>Reviewed in India on 2 October 2019</td>\n",
              "      <td>manikanta</td>\n",
              "      <td>5.0 out of 5 stars</td>\n",
              "      <td>One Plus 7T - One Word, STUNNING!!</td>\n",
              "      <td>I received One Plus 7T 2 days back. I will des...</td>\n",
              "      <td>Positive</td>\n",
              "    </tr>\n",
              "    <tr>\n",
              "      <th>4</th>\n",
              "      <td>4</td>\n",
              "      <td>Reviewed in India on 2 October 2019</td>\n",
              "      <td>Rajesh Adhikary</td>\n",
              "      <td>4.0 out of 5 stars</td>\n",
              "      <td>Pro Camera, performance, looks. Cons Battery d...</td>\n",
              "      <td>This phone has great performance, good camera ...</td>\n",
              "      <td>Positive</td>\n",
              "    </tr>\n",
              "    <tr>\n",
              "      <th>5</th>\n",
              "      <td>5</td>\n",
              "      <td>Reviewed in India on 9 October 2019</td>\n",
              "      <td>Yugal View Extra</td>\n",
              "      <td>5.0 out of 5 stars</td>\n",
              "      <td>Super fast phone with super amazing camera</td>\n",
              "      <td>8 Gb Ram128 Gb storage.This is super amazing p...</td>\n",
              "      <td>Positive</td>\n",
              "    </tr>\n",
              "    <tr>\n",
              "      <th>6</th>\n",
              "      <td>6</td>\n",
              "      <td>Reviewed in India on 3 October 2019</td>\n",
              "      <td>Vicky Sen</td>\n",
              "      <td>1.0 out of 5 stars</td>\n",
              "      <td>Please improve your build quality other wise i...</td>\n",
              "      <td>My first one+7t &amp; its make me so sad. I receiv...</td>\n",
              "      <td>Negative</td>\n",
              "    </tr>\n",
              "    <tr>\n",
              "      <th>7</th>\n",
              "      <td>7</td>\n",
              "      <td>Reviewed in India on 5 October 2019</td>\n",
              "      <td>Piyush Vaibhav</td>\n",
              "      <td>5.0 out of 5 stars</td>\n",
              "      <td>I think an all rounder!</td>\n",
              "      <td>I am among the first to buy this phone with pr...</td>\n",
              "      <td>Positive</td>\n",
              "    </tr>\n",
              "    <tr>\n",
              "      <th>8</th>\n",
              "      <td>8</td>\n",
              "      <td>Reviewed in India on 10 October 2019</td>\n",
              "      <td>KESH</td>\n",
              "      <td>1.0 out of 5 stars</td>\n",
              "      <td>PLEASE SAVE YOUR MONEY AND DON'T BUY THIS PHONE.</td>\n",
              "      <td>THIS IS ONE OF THE WORST PHONE I HAVE EVER PUR...</td>\n",
              "      <td>Negative</td>\n",
              "    </tr>\n",
              "    <tr>\n",
              "      <th>9</th>\n",
              "      <td>9</td>\n",
              "      <td>Reviewed in India on 2 October 2019</td>\n",
              "      <td>Dheeraj Malhotra</td>\n",
              "      <td>4.0 out of 5 stars</td>\n",
              "      <td>No earphone jack</td>\n",
              "      <td>No earphone jack</td>\n",
              "      <td>Negative</td>\n",
              "    </tr>\n",
              "  </tbody>\n",
              "</table>\n",
              "</div>"
            ],
            "text/plain": [
              "   Unnamed: 0  ...     Score\n",
              "0           0  ...  Positive\n",
              "1           1  ...  Positive\n",
              "2           2  ...  Positive\n",
              "3           3  ...  Positive\n",
              "4           4  ...  Positive\n",
              "5           5  ...  Positive\n",
              "6           6  ...  Negative\n",
              "7           7  ...  Positive\n",
              "8           8  ...  Negative\n",
              "9           9  ...  Negative\n",
              "\n",
              "[10 rows x 7 columns]"
            ]
          },
          "metadata": {
            "tags": []
          },
          "execution_count": 33
        }
      ]
    },
    {
      "cell_type": "code",
      "metadata": {
        "id": "c6AebmmP5LWA",
        "colab_type": "code",
        "colab": {}
      },
      "source": [
        ""
      ],
      "execution_count": 0,
      "outputs": []
    }
  ]
}