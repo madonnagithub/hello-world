{
  "nbformat": 4,
  "nbformat_minor": 0,
  "metadata": {
    "colab": {
      "name": "Day 3_1 Amazon Web Scraping.ipynb",
      "provenance": [],
      "collapsed_sections": [],
      "include_colab_link": true
    },
    "kernelspec": {
      "name": "python3",
      "display_name": "Python 3"
    }
  },
  "cells": [
    {
      "cell_type": "markdown",
      "metadata": {
        "id": "view-in-github",
        "colab_type": "text"
      },
      "source": [
        "<a href=\"https://colab.research.google.com/github/madonnagithub/hello-world/blob/master/Day_3_1_Amazon_Web_Scraping.ipynb\" target=\"_parent\"><img src=\"https://colab.research.google.com/assets/colab-badge.svg\" alt=\"Open In Colab\"/></a>"
      ]
    },
    {
      "cell_type": "code",
      "metadata": {
        "id": "ACx0Q0J3e2bI",
        "colab_type": "code",
        "colab": {}
      },
      "source": [
        "import requests\n",
        "from bs4 import BeautifulSoup as bs"
      ],
      "execution_count": 0,
      "outputs": []
    },
    {
      "cell_type": "code",
      "metadata": {
        "id": "VdrkJg-dfwkR",
        "colab_type": "code",
        "outputId": "a2ff3049-b309-459d-dd8c-a40fc0e8dc04",
        "colab": {
          "base_uri": "https://localhost:8080/",
          "height": 35
        }
      },
      "source": [
        "url = \"https://www.amazon.in/Test-Exclusive-746/product-reviews/B07DJHXTLJ/ref=cm_cr_dp_d_show_all_btm?ie=UTF8&reviewerType=all_reviews\"\n",
        "page = requests.get(url)\n",
        "page"
      ],
      "execution_count": 0,
      "outputs": [
        {
          "output_type": "execute_result",
          "data": {
            "text/plain": [
              "<Response [200]>"
            ]
          },
          "metadata": {
            "tags": []
          },
          "execution_count": 3
        }
      ]
    },
    {
      "cell_type": "code",
      "metadata": {
        "id": "EhzQRWzqf7mr",
        "colab_type": "code",
        "colab": {}
      },
      "source": [
        "soup = bs(page.content,'html.parser')\n",
        "print(soup.prettify())"
      ],
      "execution_count": 0,
      "outputs": []
    },
    {
      "cell_type": "code",
      "metadata": {
        "id": "76HVBFdqgHjZ",
        "colab_type": "code",
        "colab": {}
      },
      "source": [
        "name = soup.select('span.a-profile-name')[2:]\n",
        "name"
      ],
      "execution_count": 0,
      "outputs": []
    },
    {
      "cell_type": "code",
      "metadata": {
        "id": "xPVsn_uOhYqS",
        "colab_type": "code",
        "outputId": "f433eb36-2c6a-481e-9027-4577a47db584",
        "colab": {
          "base_uri": "https://localhost:8080/",
          "height": 35
        }
      },
      "source": [
        "len(name)"
      ],
      "execution_count": 0,
      "outputs": [
        {
          "output_type": "execute_result",
          "data": {
            "text/plain": [
              "10"
            ]
          },
          "metadata": {
            "tags": []
          },
          "execution_count": 9
        }
      ]
    },
    {
      "cell_type": "code",
      "metadata": {
        "id": "Y4GPj4N2hdVq",
        "colab_type": "code",
        "colab": {}
      },
      "source": [
        "cust_name = []\n",
        "for i in name:\n",
        "  cust_name.append(i.get_text())\n",
        "cust_name  "
      ],
      "execution_count": 0,
      "outputs": []
    },
    {
      "cell_type": "code",
      "metadata": {
        "id": "gu2R9DIEidZl",
        "colab_type": "code",
        "colab": {}
      },
      "source": [
        "stars = soup.find_all('span',class_=\"a-icon-alt\")[3:]\n",
        "stars"
      ],
      "execution_count": 0,
      "outputs": []
    },
    {
      "cell_type": "code",
      "metadata": {
        "id": "o00lFYFXjKAV",
        "colab_type": "code",
        "colab": {}
      },
      "source": [
        "ratings = []\n",
        "for i in stars:\n",
        "  ratings.append(i.get_text())\n",
        "ratings  "
      ],
      "execution_count": 0,
      "outputs": []
    },
    {
      "cell_type": "code",
      "metadata": {
        "id": "sNThBEQqj-Lm",
        "colab_type": "code",
        "outputId": "c55fc998-adf8-4d00-a6f2-332a391aff21",
        "colab": {
          "base_uri": "https://localhost:8080/",
          "height": 199
        }
      },
      "source": [
        "title = soup.select('a.review-title span')\n",
        "title"
      ],
      "execution_count": 0,
      "outputs": [
        {
          "output_type": "execute_result",
          "data": {
            "text/plain": [
              "[<span>Think and evaluate before you go for it</span>,\n",
              " <span>Treat to the eye</span>,\n",
              " <span>Best experience</span>,\n",
              " <span>One Plus 7T - One Word, STUNNING!!</span>,\n",
              " <span>Pro Camera, performance, looks. Cons Battery drain and heating up issues</span>,\n",
              " <span>Super fast phone with super amazing camera</span>,\n",
              " <span>Please improve your build quality other wise india will fire you 😠</span>,\n",
              " <span>I think an all rounder!</span>,\n",
              " <span>PLEASE SAVE YOUR MONEY AND DON'T BUY THIS PHONE.</span>,\n",
              " <span>No earphone jack</span>]"
            ]
          },
          "metadata": {
            "tags": []
          },
          "execution_count": 27
        }
      ]
    },
    {
      "cell_type": "code",
      "metadata": {
        "id": "-wqy8IMhlS14",
        "colab_type": "code",
        "outputId": "517c231b-679a-415b-c3a4-7ee8629c2a04",
        "colab": {
          "base_uri": "https://localhost:8080/",
          "height": 199
        }
      },
      "source": [
        "rev_title = []\n",
        "for i in title:\n",
        "  rev_title.append(i.get_text())\n",
        "rev_title  "
      ],
      "execution_count": 0,
      "outputs": [
        {
          "output_type": "execute_result",
          "data": {
            "text/plain": [
              "['Think and evaluate before you go for it',\n",
              " 'Treat to the eye',\n",
              " 'Best experience',\n",
              " 'One Plus 7T - One Word, STUNNING!!',\n",
              " 'Pro Camera, performance, looks. Cons Battery drain and heating up issues',\n",
              " 'Super fast phone with super amazing camera',\n",
              " 'Please improve your build quality other wise india will fire you 😠',\n",
              " 'I think an all rounder!',\n",
              " \"PLEASE SAVE YOUR MONEY AND DON'T BUY THIS PHONE.\",\n",
              " 'No earphone jack']"
            ]
          },
          "metadata": {
            "tags": []
          },
          "execution_count": 25
        }
      ]
    },
    {
      "cell_type": "code",
      "metadata": {
        "id": "Xqs2xqohm47r",
        "colab_type": "code",
        "colab": {}
      },
      "source": [
        "date = soup.find_all('span',class_='review-date')[2:]\n",
        "date"
      ],
      "execution_count": 0,
      "outputs": []
    },
    {
      "cell_type": "code",
      "metadata": {
        "id": "_tSwxIS5nrA8",
        "colab_type": "code",
        "outputId": "54336d8b-1296-420d-b6bd-1874dfe75cff",
        "colab": {
          "base_uri": "https://localhost:8080/",
          "height": 199
        }
      },
      "source": [
        "rev_date = []\n",
        "for i in date:\n",
        "  rev_date.append(i.get_text())\n",
        "rev_date  "
      ],
      "execution_count": 0,
      "outputs": [
        {
          "output_type": "execute_result",
          "data": {
            "text/plain": [
              "['Reviewed in India on 6 October 2019',\n",
              " 'Reviewed in India on 5 October 2019',\n",
              " 'Reviewed in India on 3 October 2019',\n",
              " 'Reviewed in India on 2 October 2019',\n",
              " 'Reviewed in India on 2 October 2019',\n",
              " 'Reviewed in India on 9 October 2019',\n",
              " 'Reviewed in India on 3 October 2019',\n",
              " 'Reviewed in India on 5 October 2019',\n",
              " 'Reviewed in India on 10 October 2019',\n",
              " 'Reviewed in India on 2 October 2019']"
            ]
          },
          "metadata": {
            "tags": []
          },
          "execution_count": 35
        }
      ]
    },
    {
      "cell_type": "code",
      "metadata": {
        "id": "QAnYENHFn1QK",
        "colab_type": "code",
        "outputId": "916b48ae-838d-42b3-88c5-d19af7ba0235",
        "colab": {
          "base_uri": "https://localhost:8080/",
          "height": 219
        }
      },
      "source": [
        "body = soup.select('span.review-text-content span')\n",
        "body"
      ],
      "execution_count": 0,
      "outputs": [
        {
          "output_type": "execute_result",
          "data": {
            "text/plain": [
              "[<span>After reading a lot of geeky reviews on YouTube and portals, I bought Oneplus7t. Pls, note I have been using OnePlus from last many years now so my expectations were clear. My experience with the device says that most of the reviews or unboxing things are influenced. Pls, note I have bought it with my own money unlike leading reviewers or unboxing video geeks who get it for free. So pls don't go by them blindly. Go for users reviews who bought them with their own money. So I am writing my 5 days experience with the phone.<br/>I am not a gamer or a geek. A regular user who wants to do all the office work on the phone, social media, blogging and vlogging, etc.<br/>The last OnePlus phone I was using was Oneplus 5 and was quite happy with it until it screen got broken and replacement cost was higher than the selling price of the device itself.<br/><br/>The day it arrived from Amazon I opened it with a lot of excitement which continued till I have held it in my hands.<br/>Here are the issues:<br/>1. Weight: It weighed too much I felt like holding a brick. And it is thick. When I hold it in one hand for a few minutes I get a deep red pit in my hand (due to blood circulation).<br/>2. Camera: Then I had to go for a conference there I tried clicking pictures. Picture quality did not come out well. Still, I thought it may be light or background because of my previous experiences I could not believe it to be not good. So I continued clicking pictures which really missed detailing. As you zoom in it will make it blurred. I have clicked a magazine cover picture with my Oneplus 5 which had only 16 MP camera but pic quality was natural and good. It clicks blur pics may it has to do with image Stabilization.<br/>3. Battery:  Battery is avg. All those time I teased my iPhone or Samsung Series colleagues and friends for their battery life. Welcome to the league. This offers an avg battery life. I never carried a charger with me in previous models if I Start with 90% even after two years. But here I have to carry it even for the average usage. I m wondering what would be this phone battery life in a year or more.<br/>4. 90 Hz refresh rate is a gimmick to sell this device. It will give you fluid experience but the soon it consumes battery you will always prefer to keep it to 60hz which is an option given in the display settings. If you always stick to a desk or have a power source around you can keep it to 90hz. Not for people who are on the move most of the time. Don't fall for it.<br/>5. Sound: It's average. Phone calls are not crisp and clear. At times the caller's voice gets hazy and husky. Voice is even audible to person the person sitting next to me. Even on lower volumes. Speakers volume is loud but the sound quality is not good.<br/>6. No premium-feeling anymore. With multiple variants, it has joined the league of Samsung, Mi, Oppo, Vivo. Now they are launching 7t pro on Oct 10 again it is a disappointment for those who bought 7t on day 1. Maybe their R&amp;D or trials have some problem here that in every two months they are launching a new device with an update to the previous faults. Like OnePlus 7 has voice receiver on one side which is right. So if you take calls or hear the phone from left you won't get a clear voice or volume. So they added receivers on both the side in this device.<br/><br/>I am still not getting why I have spent Rs 40,000 on it. No camera quality, no battery life, no sound quality on calls, getting wounds on holding it for long.<br/><br/>I have always recommended OnePlus devices to everyone around and had high hopes and trust on the brand that I bought it on the day of the launch but with this experience, I won't recommend OnePlus 7t to my colleagues and friends who are planning to upgrade their devices.</span>,\n",
              " <span>Detailed review --<br/><br/>Design - 4/5<br/>+Reduced notch<br/>+Premium glass back<br/>-Camera bump<br/><br/>Performance - 5/5<br/>+Latest and greatest hardware<br/>+Smart optimisations<br/><br/>OS - 4.5/5<br/>+Smooth Android experience - Oxygen OS<br/><br/>Display - 4.5/5<br/>+Butter smooth 90 Hz Amoled display - treat to the eye<br/><br/>Battery -3.5/5<br/>+Fastest charging ever seen<br/>-Less capacity<br/><br/>Camera -4/5<br/>+Overall good output with all 3 cameras<br/>+ Amazing macro mode<br/>- Misses details and messes up with Colors sometimes<br/><br/>Audio - 4/5<br/>+Clear and loud - quality output</span>,\n",
              " <span>Awesome experience..best in class camera... oxygen os..love</span>,\n",
              " <span>I received One Plus 7T 2 days back. I will describe you my experience in these 2 days.<br/><br/>Firstly, kudos to Amazon for such a quick delivery and excellent packaging.<br/><br/>Coming to the mobile, the first impression is just amazing. Its smooth, fast and you can't come out of it.<br/><br/>The amoeld display is stunning and camera is amazing. Battery backup is also too good. And it took me 40 min to charge from 2% to 100%.<br/><br/>PROS:<br/>CAMERA - 4.8/5<br/>BATTERY- 5/5<br/>Display - 4.7/5<br/>Performance - 4.8/5<br/>Speed - 5/5<br/>Gaming experience- 4.8/5<br/><br/>CONS<br/>NO Headset jack.<br/>One Plus didn't even provide 3.5mm Type C Converter either which dissapointed me.<br/>Camera design could have been made better (But I feel better compared to Apple 11 pro)<br/><br/>Overall: 4.7/5  One Plus proves again why its the BEST MOBILE right now. Go for it.</span>,\n",
              " <span>This phone has great performance, good camera and ambiance. Charging is fast as per the Oneplus standards set in earlier phones.<br/> What is concerning me is the heating issue which crops up off and on. The Battery drains quickly so we have to keep it at 60Hz to longer life. Is there anyone else feeling the heating issues?</span>,\n",
              " <span>8 Gb Ram<br/>128 Gb storage.<br/><br/>This is super amazing phone.<br/>It is super fast Like bullet Train.<br/>Obviously it will never hang.<br/><br/>Camera quality is better than OnePlus 7  Because it has triple camera 😍 .<br/><br/>Design of phone is also amazing.<br/><br/>Turbo charging with 3800 mAH battery is too good.</span>,\n",
              " <span>My first one+7t &amp; its make me so sad. I received the ph with manufacturing defect in display. Gum came out from the edges of display. How can a consumer aspects from a reputed brand after he paying 40000/- 🤔😭😟🥺😓</span>,\n",
              " <span>I am among the first to buy this phone with prime membership. Posting this review after a week of using the phone. I can't compare it with other flagships as this is my first one in this range. I loved the 90Hz display and the fingerprint reader is also quite good. There is no lagging issue till now. The battery backup is good but not excellent with such a higher frame rate but man the charging speed is much more than wonderful. I was totally amazed at first. Camera quality is good but the colour sensing needs some improvements. It's a bit warm and not natural as you can see in the photos provided,one without adjustment and the other one with warmth reduced a bit. Speakers are loud and produce decent sound. Haven't checked the selfie camera and the video recording till now.</span>,\n",
              " <span>THIS IS ONE OF THE WORST PHONE I HAVE EVER PURCHASED. PLEASE DONT BUY THIS PHONE AND PUT YOUR HARD EARNED MONEY ON STAKE. THERE ARE SO MANY CONS IN THIS PHONE. EARLIER I HAVE USED ONE PLUS 5T PHONE SO I KNEW WHAT TO EXPECT FROM THIS PHONE BUT THIS TIME I AM SO MUCH DISAPPOINTED.<br/>HERE ARE MY CONCERNS<br/>1. SCREEN RESOLUTION AND QUALITY OF THE SCREEN IS SO POOR. THERE IS GRAINS AND COLOR BANDING ISSUE IN SCREEN. IMAGES LOOKS GRAINY AND UNSHARP IN COMPARISION TO ONE PLUS 5T OR 6T. PHONE RATIO IS 20:9 SO INSTAGRAM IMAGES WILL BE IN SHOWN IN PORTRAIT MODE INSTEAD OF LANDSCAPE MODE. IMAGES ON THE SCREEN IS SO BLURRRY<br/>2. DESIGN OF THE PHONE IS MESS. SO MUCH CAMERA BULK. EVEN THE PROVIDED CASE CANNOT PROTECT IT FROM SCRATCHES. PHONE IS VERY FAT AND HAEVY. LENGTH IS ALSO TOO MUCH BECAUSE OF THE RATIO. ALSO THERE IS NO PREMIUM FEELING AFTER HOLDING THIS PHONE AS WAS WITH THE ONE PLUS 5T.<br/>3. 3.5MM JACK IS BIG OMMISSION SINCE ONE PLUS 6 PHONE. THERE IS NO BENEFIT OF REMOVING IT. THERE IS NO BIGGER BATTERY. ALSO YOU HAVE TO BUY A SEPERATE ADAPTER OR NEW BLUTOOTH EARPHONES AND BLUTOOTH EARPHONES QUALITY CAN NEVER BE AS GOOD AS WIRED EARPHONES.<br/>4. CAMERA QUALITY IS AVERAGE. NO INCREASE IN PICTURE QUALITY. 3 CAMERAS ARE ONLY FOR NAME SAKE.<br/><br/>I WAS VERY HAPPY ONE PLUS CUSTOMER, BUT NOW I WON'T RECOMMEND THIS PHONE TO ANYONE. PLEASE DONT WASTE YOUR MONEY.</span>,\n",
              " <span>No earphone jack</span>]"
            ]
          },
          "metadata": {
            "tags": []
          },
          "execution_count": 36
        }
      ]
    },
    {
      "cell_type": "code",
      "metadata": {
        "id": "gQtPnL1poaEt",
        "colab_type": "code",
        "outputId": "e2af4a81-5479-48b1-ca14-a42553aefcc4",
        "colab": {
          "base_uri": "https://localhost:8080/",
          "height": 219
        }
      },
      "source": [
        "review = []\n",
        "for i in body:\n",
        "  review.append(i.get_text())\n",
        "review  "
      ],
      "execution_count": 0,
      "outputs": [
        {
          "output_type": "execute_result",
          "data": {
            "text/plain": [
              "[\"After reading a lot of geeky reviews on YouTube and portals, I bought Oneplus7t. Pls, note I have been using OnePlus from last many years now so my expectations were clear. My experience with the device says that most of the reviews or unboxing things are influenced. Pls, note I have bought it with my own money unlike leading reviewers or unboxing video geeks who get it for free. So pls don't go by them blindly. Go for users reviews who bought them with their own money. So I am writing my 5 days experience with the phone.I am not a gamer or a geek. A regular user who wants to do all the office work on the phone, social media, blogging and vlogging, etc.The last OnePlus phone I was using was Oneplus 5 and was quite happy with it until it screen got broken and replacement cost was higher than the selling price of the device itself.The day it arrived from Amazon I opened it with a lot of excitement which continued till I have held it in my hands.Here are the issues:1. Weight: It weighed too much I felt like holding a brick. And it is thick. When I hold it in one hand for a few minutes I get a deep red pit in my hand (due to blood circulation).2. Camera: Then I had to go for a conference there I tried clicking pictures. Picture quality did not come out well. Still, I thought it may be light or background because of my previous experiences I could not believe it to be not good. So I continued clicking pictures which really missed detailing. As you zoom in it will make it blurred. I have clicked a magazine cover picture with my Oneplus 5 which had only 16 MP camera but pic quality was natural and good. It clicks blur pics may it has to do with image Stabilization.3. Battery:  Battery is avg. All those time I teased my iPhone or Samsung Series colleagues and friends for their battery life. Welcome to the league. This offers an avg battery life. I never carried a charger with me in previous models if I Start with 90% even after two years. But here I have to carry it even for the average usage. I m wondering what would be this phone battery life in a year or more.4. 90 Hz refresh rate is a gimmick to sell this device. It will give you fluid experience but the soon it consumes battery you will always prefer to keep it to 60hz which is an option given in the display settings. If you always stick to a desk or have a power source around you can keep it to 90hz. Not for people who are on the move most of the time. Don't fall for it.5. Sound: It's average. Phone calls are not crisp and clear. At times the caller's voice gets hazy and husky. Voice is even audible to person the person sitting next to me. Even on lower volumes. Speakers volume is loud but the sound quality is not good.6. No premium-feeling anymore. With multiple variants, it has joined the league of Samsung, Mi, Oppo, Vivo. Now they are launching 7t pro on Oct 10 again it is a disappointment for those who bought 7t on day 1. Maybe their R&D or trials have some problem here that in every two months they are launching a new device with an update to the previous faults. Like OnePlus 7 has voice receiver on one side which is right. So if you take calls or hear the phone from left you won't get a clear voice or volume. So they added receivers on both the side in this device.I am still not getting why I have spent Rs 40,000 on it. No camera quality, no battery life, no sound quality on calls, getting wounds on holding it for long.I have always recommended OnePlus devices to everyone around and had high hopes and trust on the brand that I bought it on the day of the launch but with this experience, I won't recommend OnePlus 7t to my colleagues and friends who are planning to upgrade their devices.\",\n",
              " 'Detailed review --Design - 4/5+Reduced notch+Premium glass back-Camera bumpPerformance - 5/5+Latest and greatest hardware+Smart optimisationsOS - 4.5/5+Smooth Android experience - Oxygen OSDisplay - 4.5/5+Butter smooth 90 Hz Amoled display - treat to the eyeBattery -3.5/5+Fastest charging ever seen-Less capacityCamera -4/5+Overall good output with all 3 cameras+ Amazing macro mode- Misses details and messes up with Colors sometimesAudio - 4/5+Clear and loud - quality output',\n",
              " 'Awesome experience..best in class camera... oxygen os..love',\n",
              " \"I received One Plus 7T 2 days back. I will describe you my experience in these 2 days.Firstly, kudos to Amazon for such a quick delivery and excellent packaging.Coming to the mobile, the first impression is just amazing. Its smooth, fast and you can't come out of it.The amoeld display is stunning and camera is amazing. Battery backup is also too good. And it took me 40 min to charge from 2% to 100%.PROS:CAMERA - 4.8/5BATTERY- 5/5Display - 4.7/5Performance - 4.8/5Speed - 5/5Gaming experience- 4.8/5CONSNO Headset jack.One Plus didn't even provide 3.5mm Type C Converter either which dissapointed me.Camera design could have been made better (But I feel better compared to Apple 11 pro)Overall: 4.7/5  One Plus proves again why its the BEST MOBILE right now. Go for it.\",\n",
              " 'This phone has great performance, good camera and ambiance. Charging is fast as per the Oneplus standards set in earlier phones. What is concerning me is the heating issue which crops up off and on. The Battery drains quickly so we have to keep it at 60Hz to longer life. Is there anyone else feeling the heating issues?',\n",
              " '8 Gb Ram128 Gb storage.This is super amazing phone.It is super fast Like bullet Train.Obviously it will never hang.Camera quality is better than OnePlus 7  Because it has triple camera 😍 .Design of phone is also amazing.Turbo charging with 3800 mAH battery is too good.',\n",
              " 'My first one+7t & its make me so sad. I received the ph with manufacturing defect in display. Gum came out from the edges of display. How can a consumer aspects from a reputed brand after he paying 40000/- 🤔😭😟\\U0001f97a😓',\n",
              " \"I am among the first to buy this phone with prime membership. Posting this review after a week of using the phone. I can't compare it with other flagships as this is my first one in this range. I loved the 90Hz display and the fingerprint reader is also quite good. There is no lagging issue till now. The battery backup is good but not excellent with such a higher frame rate but man the charging speed is much more than wonderful. I was totally amazed at first. Camera quality is good but the colour sensing needs some improvements. It's a bit warm and not natural as you can see in the photos provided,one without adjustment and the other one with warmth reduced a bit. Speakers are loud and produce decent sound. Haven't checked the selfie camera and the video recording till now.\",\n",
              " \"THIS IS ONE OF THE WORST PHONE I HAVE EVER PURCHASED. PLEASE DONT BUY THIS PHONE AND PUT YOUR HARD EARNED MONEY ON STAKE. THERE ARE SO MANY CONS IN THIS PHONE. EARLIER I HAVE USED ONE PLUS 5T PHONE SO I KNEW WHAT TO EXPECT FROM THIS PHONE BUT THIS TIME I AM SO MUCH DISAPPOINTED.HERE ARE MY CONCERNS1. SCREEN RESOLUTION AND QUALITY OF THE SCREEN IS SO POOR. THERE IS GRAINS AND COLOR BANDING ISSUE IN SCREEN. IMAGES LOOKS GRAINY AND UNSHARP IN COMPARISION TO ONE PLUS 5T OR 6T. PHONE RATIO IS 20:9 SO INSTAGRAM IMAGES WILL BE IN SHOWN IN PORTRAIT MODE INSTEAD OF LANDSCAPE MODE. IMAGES ON THE SCREEN IS SO BLURRRY2. DESIGN OF THE PHONE IS MESS. SO MUCH CAMERA BULK. EVEN THE PROVIDED CASE CANNOT PROTECT IT FROM SCRATCHES. PHONE IS VERY FAT AND HAEVY. LENGTH IS ALSO TOO MUCH BECAUSE OF THE RATIO. ALSO THERE IS NO PREMIUM FEELING AFTER HOLDING THIS PHONE AS WAS WITH THE ONE PLUS 5T.3. 3.5MM JACK IS BIG OMMISSION SINCE ONE PLUS 6 PHONE. THERE IS NO BENEFIT OF REMOVING IT. THERE IS NO BIGGER BATTERY. ALSO YOU HAVE TO BUY A SEPERATE ADAPTER OR NEW BLUTOOTH EARPHONES AND BLUTOOTH EARPHONES QUALITY CAN NEVER BE AS GOOD AS WIRED EARPHONES.4. CAMERA QUALITY IS AVERAGE. NO INCREASE IN PICTURE QUALITY. 3 CAMERAS ARE ONLY FOR NAME SAKE.I WAS VERY HAPPY ONE PLUS CUSTOMER, BUT NOW I WON'T RECOMMEND THIS PHONE TO ANYONE. PLEASE DONT WASTE YOUR MONEY.\",\n",
              " 'No earphone jack']"
            ]
          },
          "metadata": {
            "tags": []
          },
          "execution_count": 37
        }
      ]
    },
    {
      "cell_type": "code",
      "metadata": {
        "id": "C24wouVwpEaT",
        "colab_type": "code",
        "outputId": "967cfe75-2187-4eae-f730-bc9d1ca3d089",
        "colab": {
          "base_uri": "https://localhost:8080/",
          "height": 35
        }
      },
      "source": [
        "len(cust_name)"
      ],
      "execution_count": 0,
      "outputs": [
        {
          "output_type": "execute_result",
          "data": {
            "text/plain": [
              "10"
            ]
          },
          "metadata": {
            "tags": []
          },
          "execution_count": 38
        }
      ]
    },
    {
      "cell_type": "code",
      "metadata": {
        "id": "kGaxm32OqQyj",
        "colab_type": "code",
        "outputId": "d894df20-f285-4c48-d987-6a345d49689c",
        "colab": {
          "base_uri": "https://localhost:8080/",
          "height": 35
        }
      },
      "source": [
        "len(rev_title)"
      ],
      "execution_count": 0,
      "outputs": [
        {
          "output_type": "execute_result",
          "data": {
            "text/plain": [
              "10"
            ]
          },
          "metadata": {
            "tags": []
          },
          "execution_count": 39
        }
      ]
    },
    {
      "cell_type": "code",
      "metadata": {
        "id": "NEeVGlW0qS_b",
        "colab_type": "code",
        "outputId": "7d2daf3f-28e0-468c-9bd9-b6c7f3d605b6",
        "colab": {
          "base_uri": "https://localhost:8080/",
          "height": 35
        }
      },
      "source": [
        "len(rev_date)"
      ],
      "execution_count": 0,
      "outputs": [
        {
          "output_type": "execute_result",
          "data": {
            "text/plain": [
              "10"
            ]
          },
          "metadata": {
            "tags": []
          },
          "execution_count": 40
        }
      ]
    },
    {
      "cell_type": "code",
      "metadata": {
        "id": "oo5TG272qUU3",
        "colab_type": "code",
        "outputId": "bf51c67e-a2d1-4b2c-8c0b-0314bc43f530",
        "colab": {
          "base_uri": "https://localhost:8080/",
          "height": 35
        }
      },
      "source": [
        "len(ratings)"
      ],
      "execution_count": 0,
      "outputs": [
        {
          "output_type": "execute_result",
          "data": {
            "text/plain": [
              "10"
            ]
          },
          "metadata": {
            "tags": []
          },
          "execution_count": 41
        }
      ]
    },
    {
      "cell_type": "code",
      "metadata": {
        "id": "CLCB6YbCqXY8",
        "colab_type": "code",
        "outputId": "50a424d6-e087-4a56-f082-fc342774927f",
        "colab": {
          "base_uri": "https://localhost:8080/",
          "height": 35
        }
      },
      "source": [
        "len(review)"
      ],
      "execution_count": 0,
      "outputs": [
        {
          "output_type": "execute_result",
          "data": {
            "text/plain": [
              "10"
            ]
          },
          "metadata": {
            "tags": []
          },
          "execution_count": 43
        }
      ]
    },
    {
      "cell_type": "code",
      "metadata": {
        "id": "Lm-1IjbTqZs_",
        "colab_type": "code",
        "colab": {}
      },
      "source": [
        "import pandas as pd\n",
        "df = pd.DataFrame()\n",
        "df[\"Date\"] = rev_date\n",
        "df[\"Customer Name\"] = cust_name\n",
        "df[\"Ratings\"] = ratings\n",
        "df[\"Review Title\"] =  rev_title\n",
        "df[\"Reviews\"] = review"
      ],
      "execution_count": 0,
      "outputs": []
    },
    {
      "cell_type": "code",
      "metadata": {
        "id": "HgFE3ZwarGS2",
        "colab_type": "code",
        "colab": {}
      },
      "source": [
        "df.to_csv(\"reviews.csv\")"
      ],
      "execution_count": 0,
      "outputs": []
    },
    {
      "cell_type": "code",
      "metadata": {
        "id": "2zKS8Mw5rHUm",
        "colab_type": "code",
        "colab": {}
      },
      "source": [
        ""
      ],
      "execution_count": 0,
      "outputs": []
    }
  ]
}